{
 "cells": [
  {
   "cell_type": "markdown",
   "id": "11569ad2",
   "metadata": {},
   "source": [
    "### Necessary libraries for the model"
   ]
  },
  {
   "cell_type": "code",
   "execution_count": 2,
   "id": "2a531b0e",
   "metadata": {},
   "outputs": [],
   "source": [
    "import pandas as pd\n",
    "import numpy as np\n",
    "import matplotlib.pyplot as plt\n",
    "import mglearn\n",
    "%matplotlib inline"
   ]
  },
  {
   "cell_type": "markdown",
   "id": "54d55bdb",
   "metadata": {},
   "source": [
    "### Importing the iris flower data set from sklearn"
   ]
  },
  {
   "cell_type": "code",
   "execution_count": 3,
   "id": "d184854f",
   "metadata": {},
   "outputs": [],
   "source": [
    "from sklearn.datasets import load_iris\n",
    "iris_dataset = load_iris()"
   ]
  },
  {
   "cell_type": "markdown",
   "id": "1d62943b",
   "metadata": {},
   "source": [
    "### Division of the dataset into 75% X_train data and X_test target and 25% y_train data and y_test target"
   ]
  },
  {
   "cell_type": "code",
   "execution_count": 4,
   "id": "093cb1ed",
   "metadata": {},
   "outputs": [],
   "source": [
    "from sklearn.model_selection import train_test_split\n",
    "X_train, X_test, y_train, y_test = train_test_split(iris_dataset['data'],\n",
    "                                                   iris_dataset['target'],\n",
    "                                                   random_state=0)"
   ]
  },
  {
   "cell_type": "markdown",
   "id": "8de9eead",
   "metadata": {},
   "source": [
    "### Visualization of the iris flower dataset before modelling the ML model"
   ]
  },
  {
   "cell_type": "code",
   "execution_count": null,
   "id": "9c962434",
   "metadata": {},
   "outputs": [],
   "source": [
    "df = pd.DataFrame(X_train, columns=iris_dataset['feature_names'])\n",
    "pd.plotting.scatter_matrix(df,\n",
    "                        c = y_train,\n",
    "                        figsize=(15,15),\n",
    "                       marker='o',\n",
    "                       hist_kwds={'bins': 20},\n",
    "                        s=60,\n",
    "                        alpha=.8,\n",
    "                        cmap=mglearn.cm3);"
   ]
  },
  {
   "cell_type": "markdown",
   "id": "a260e515",
   "metadata": {},
   "source": [
    "### Training the model with X_train and y_train data"
   ]
  },
  {
   "cell_type": "code",
   "execution_count": null,
   "id": "f7bf1d90",
   "metadata": {},
   "outputs": [],
   "source": [
    "from sklearn.neighbors import KNeighborsClassifier\n",
    "knn = KNeighborsClassifier(n_neighbors=1)\n",
    "knn.fit(X_train, y_train)"
   ]
  },
  {
   "cell_type": "markdown",
   "id": "60b72b0d",
   "metadata": {},
   "source": [
    "### Calculation of the accuracy of the model"
   ]
  },
  {
   "cell_type": "code",
   "execution_count": null,
   "id": "92ee6367",
   "metadata": {
    "scrolled": true
   },
   "outputs": [],
   "source": [
    "test_score = knn.score(X_test,y_test)\n",
    "print(f\"Model accuracy: {np.round(test_score * 100)}%\")"
   ]
  },
  {
   "cell_type": "markdown",
   "id": "2c3db30a",
   "metadata": {},
   "source": [
    "### Using the model to predict some sample iris flower specie "
   ]
  },
  {
   "cell_type": "code",
   "execution_count": null,
   "id": "11797a97",
   "metadata": {
    "scrolled": true
   },
   "outputs": [],
   "source": [
    "sample_specie = np.array([[5, 2.9, 1, 0.2]])\n",
    "prediction = knn.predict(sample_specie)\n",
    "predicted_specie = iris_dataset['target_names'][prediction]\n",
    "print(f\"The predicted specie is {predicted_specie[0]}\")"
   ]
  },
  {
   "cell_type": "code",
   "execution_count": null,
   "id": "8273e943",
   "metadata": {},
   "outputs": [],
   "source": []
  }
 ],
 "metadata": {
  "kernelspec": {
   "display_name": "Python 3 (ipykernel)",
   "language": "python",
   "name": "python3"
  },
  "language_info": {
   "codemirror_mode": {
    "name": "ipython",
    "version": 3
   },
   "file_extension": ".py",
   "mimetype": "text/x-python",
   "name": "python",
   "nbconvert_exporter": "python",
   "pygments_lexer": "ipython3",
   "version": "3.9.13"
  }
 },
 "nbformat": 4,
 "nbformat_minor": 5
}
